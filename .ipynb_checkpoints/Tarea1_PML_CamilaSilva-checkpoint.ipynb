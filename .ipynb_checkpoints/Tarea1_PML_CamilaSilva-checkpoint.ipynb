{
 "cells": [
  {
   "cell_type": "markdown",
   "metadata": {},
   "source": [
    "# Tarea1_PML_CamilaSilva"
   ]
  },
  {
   "cell_type": "markdown",
   "metadata": {},
   "source": [
    "## La tarea consiste en realizar un ejercicio por cada episodio de la lección (Plotting and Programming in Python) hasta el episodio 16.\n",
    "\n",
    "1. Running and Quitting\t\n",
    "    * Ejercicio:\n",
    "En Markdows es posible escribir formulas matematicas como en LateX  "
   ]
  },
  {
   "cell_type": "markdown",
   "metadata": {},
   "source": [
    "$\\sum_{i=1}^{N} 2^{-i} \\approx 1$"
   ]
  },
  {
   "cell_type": "markdown",
   "metadata": {},
   "source": [
    "2. Variables and Assignment\n",
    "    * Ejercicio:\n",
    "¿Qué imprime el siguiente programa?"
   ]
  },
  {
   "cell_type": "code",
   "execution_count": 7,
   "metadata": {},
   "outputs": [
    {
     "name": "stdout",
     "output_type": "stream",
     "text": [
      "atom_name[1:3] is: ar\n"
     ]
    }
   ],
   "source": [
    "atom_name = 'carbon'\n",
    "print('atom_name[1:3] is:', atom_name[1:3])"
   ]
  },
  {
   "cell_type": "markdown",
   "metadata": {},
   "source": [
    "Toma la variable (atom_name) e imprime desde la posicion 1 a la segunda posición, teniendo en cuenta que python es cero indexado y con el intervalo del final abierto, por esto no toma la tercera posición."
   ]
  },
  {
   "cell_type": "code",
   "execution_count": 6,
   "metadata": {},
   "outputs": [
    {
     "name": "stdout",
     "output_type": "stream",
     "text": [
      "atom_name[1:4] is: arb\n"
     ]
    }
   ],
   "source": [
    "atom_name = 'carbon'\n",
    "print('atom_name[1:4] is:', atom_name[1:4])"
   ]
  },
  {
   "cell_type": "markdown",
   "metadata": {},
   "source": [
    "3. Data Types and Type Conversion\t\n",
    "    * Ejercicio:\n",
    "En Python es posible escribir números complejos, de la forma $1.0 + 2.0j$. Si se tiene un número complejo $z$, se puede acceder a sus partes real e imaginaria utilizando la notación de puntos como $z.real$ y $z.imag$."
   ]
  },
  {
   "cell_type": "code",
   "execution_count": 8,
   "metadata": {},
   "outputs": [
    {
     "name": "stdout",
     "output_type": "stream",
     "text": [
      "6.0\n",
      "2.0\n"
     ]
    }
   ],
   "source": [
    "z = 6 + 2j\n",
    "print(z.real)\n",
    "print(z.imag)"
   ]
  },
  {
   "cell_type": "code",
   "execution_count": 19,
   "metadata": {},
   "outputs": [
    {
     "name": "stdout",
     "output_type": "stream",
     "text": [
      "x = (9+2j) <class 'complex'>\n",
      "y = (6+4j) <class 'complex'>\n",
      "x + y = (15+6j) <class 'complex'>\n"
     ]
    }
   ],
   "source": [
    "x = z + 3\n",
    "y = z + 2j\n",
    "print('x =',x, type(x))\n",
    "print('y =', y, type(y))\n",
    "print('x + y =', x + y, type(x + y))"
   ]
  },
  {
   "cell_type": "markdown",
   "metadata": {},
   "source": [
    "En este caso Python realiza la suma de números complejos identificando su parte real y su parte imaginaria. "
   ]
  },
  {
   "cell_type": "markdown",
   "metadata": {},
   "source": [
    "4. Built-in Functions and Help\n",
    "    * Ejercicio:\n",
    "Explique el orden de las operaciones en el siguiente programa y diga ¿Cuál es el valor final de $radiance$?"
   ]
  },
  {
   "cell_type": "code",
   "execution_count": 35,
   "metadata": {},
   "outputs": [
    {
     "data": {
      "text/plain": [
       "2.6"
      ]
     },
     "execution_count": 35,
     "metadata": {},
     "output_type": "execute_result"
    }
   ],
   "source": [
    "radiance = 1.0\n",
    "radiance_1 = max(2.1, 2.0 + min(radiance, 1.1 * radiance - 0.5))\n",
    "radiance_1"
   ]
  },
  {
   "cell_type": "markdown",
   "metadata": {},
   "source": [
    "Podemos ver que las operaciones siguen el orden de adentro hacia afuera de los parentesis, de la sigiente manera:\n",
    "1. $1.1 * radiance = 1.1$\n",
    "2. $1.1 - 0.5 = 0.6$\n",
    "3. $min(1.0, 0.6) = 0.6$\n",
    "4. $2.0 + 6.0 = 2.6$\n",
    "5. $max(2.1, 2.6) = 2.6$"
   ]
  },
  {
   "cell_type": "code",
   "execution_count": 32,
   "metadata": {},
   "outputs": [
    {
     "data": {
      "text/plain": [
       "1.1"
      ]
     },
     "execution_count": 32,
     "metadata": {},
     "output_type": "execute_result"
    }
   ],
   "source": [
    "radiance = 1.0\n",
    "radiance1 = 1.1 * radiance\n",
    "radiance1"
   ]
  },
  {
   "cell_type": "code",
   "execution_count": 28,
   "metadata": {},
   "outputs": [
    {
     "data": {
      "text/plain": [
       "0.6000000000000001"
      ]
     },
     "execution_count": 28,
     "metadata": {},
     "output_type": "execute_result"
    }
   ],
   "source": [
    "radiance2 = radiance1 - 0.5\n",
    "radiance2"
   ]
  },
  {
   "cell_type": "code",
   "execution_count": 30,
   "metadata": {},
   "outputs": [
    {
     "data": {
      "text/plain": [
       "0.6000000000000001"
      ]
     },
     "execution_count": 30,
     "metadata": {},
     "output_type": "execute_result"
    }
   ],
   "source": [
    "radiance3 = min(radiance1, radiance2)\n",
    "radiance3"
   ]
  },
  {
   "cell_type": "code",
   "execution_count": 31,
   "metadata": {},
   "outputs": [
    {
     "data": {
      "text/plain": [
       "2.6"
      ]
     },
     "execution_count": 31,
     "metadata": {},
     "output_type": "execute_result"
    }
   ],
   "source": [
    "radiance4 = 2.0 + radiance3\n",
    "radiance4"
   ]
  },
  {
   "cell_type": "code",
   "execution_count": 36,
   "metadata": {},
   "outputs": [
    {
     "data": {
      "text/plain": [
       "2.6"
      ]
     },
     "execution_count": 36,
     "metadata": {},
     "output_type": "execute_result"
    }
   ],
   "source": [
    "radiance5 = max(2.1, radiance4)\n",
    "radiance5"
   ]
  },
  {
   "cell_type": "markdown",
   "metadata": {},
   "source": [
    "5. Morning Coffee \n",
    "    * Break (no se toma en cuenta)"
   ]
  },
  {
   "cell_type": "markdown",
   "metadata": {},
   "source": [
    "6. Libraries\n",
    "     * Ejercicio: \n",
    "Se quiere seleccionar un carácter aleatorio de una cadena:"
   ]
  },
  {
   "cell_type": "code",
   "execution_count": 40,
   "metadata": {},
   "outputs": [],
   "source": [
    "bases = 'ACTTGCTTGAC'"
   ]
  },
  {
   "cell_type": "code",
   "execution_count": 55,
   "metadata": {},
   "outputs": [
    {
     "name": "stdout",
     "output_type": "stream",
     "text": [
      "Help on method randrange in module random:\n",
      "\n",
      "randrange(start, stop=None, step=1, _int=<class 'int'>) method of random.Random instance\n",
      "    Choose a random item from range(start, stop[, step]).\n",
      "    \n",
      "    This fixes the problem with randint() which includes the\n",
      "    endpoint; in Python this is usually not what you want.\n",
      "\n"
     ]
    }
   ],
   "source": [
    "help(random.randrange)"
   ]
  },
  {
   "cell_type": "code",
   "execution_count": 62,
   "metadata": {},
   "outputs": [
    {
     "name": "stdout",
     "output_type": "stream",
     "text": [
      "Help on method sample in module random:\n",
      "\n",
      "sample(population, k) method of random.Random instance\n",
      "    Chooses k unique random elements from a population sequence or set.\n",
      "    \n",
      "    Returns a new list containing elements from the population while\n",
      "    leaving the original population unchanged.  The resulting list is\n",
      "    in selection order so that all sub-slices will also be valid random\n",
      "    samples.  This allows raffle winners (the sample) to be partitioned\n",
      "    into grand prize and second place winners (the subslices).\n",
      "    \n",
      "    Members of the population need not be hashable or unique.  If the\n",
      "    population contains repeats, then each occurrence is a possible\n",
      "    selection in the sample.\n",
      "    \n",
      "    To choose a sample in a range of integers, use range as an argument.\n",
      "    This is especially fast and space efficient for sampling from a\n",
      "    large population:   sample(range(10000000), 60)\n",
      "\n"
     ]
    }
   ],
   "source": [
    "help(random.sample)"
   ]
  },
  {
   "cell_type": "code",
   "execution_count": 83,
   "metadata": {},
   "outputs": [
    {
     "name": "stdout",
     "output_type": "stream",
     "text": [
      "A\n",
      "C\n"
     ]
    }
   ],
   "source": [
    "import random\n",
    "#Forma 1 -- randrange\n",
    "index = random.randrange(0, len(bases))\n",
    "print(bases[index])\n",
    "#Forma 2 -- sample\n",
    "print(random.sample(bases,1)[0])"
   ]
  },
  {
   "cell_type": "markdown",
   "metadata": {},
   "source": [
    "Podemos usar la funcion $random$, la cual funciona como generador de variables aleatorias. Para ser mas especificos y utilizando la opcion $help()$ de Python, se muestran dos funciones del módulo $random$ que nos pueden ayudar con lo que nos solicitan:\n",
    "\n",
    "* $randrange$ -- Elije un indice aleatorio del rango dado. Luego con este indice podemos tomar el elemento del $str$ que pertenece a ese indice aleatorio.\n",
    "\n",
    "* $sample$ -- Elije $n$ elementos del objeto $bases$ al azar."
   ]
  },
  {
   "cell_type": "markdown",
   "metadata": {},
   "source": [
    "7. Reading Tabular Data into DataFrames\t\n",
    "    * Ejercicio: \n"
   ]
  },
  {
   "cell_type": "code",
   "execution_count": null,
   "metadata": {},
   "outputs": [],
   "source": []
  },
  {
   "cell_type": "code",
   "execution_count": null,
   "metadata": {},
   "outputs": [],
   "source": []
  },
  {
   "cell_type": "code",
   "execution_count": null,
   "metadata": {},
   "outputs": [],
   "source": []
  },
  {
   "cell_type": "code",
   "execution_count": null,
   "metadata": {},
   "outputs": [],
   "source": []
  },
  {
   "cell_type": "markdown",
   "metadata": {},
   "source": [
    "8. Pandas DataFrames \n",
    "    * Ejercicio: \n"
   ]
  },
  {
   "cell_type": "markdown",
   "metadata": {},
   "source": [
    "9. Plotting\t\n",
    "    * Ejercicio: \n"
   ]
  },
  {
   "cell_type": "markdown",
   "metadata": {},
   "source": [
    "10. Lunch\n",
    "    * Break (no se toma en cuenta)"
   ]
  },
  {
   "cell_type": "markdown",
   "metadata": {},
   "source": [
    "11. Lists\n",
    "    * Ejercicio:\n"
   ]
  },
  {
   "cell_type": "markdown",
   "metadata": {},
   "source": [
    "12. For Loops\n",
    "    * Ejercicio: \n"
   ]
  },
  {
   "cell_type": "markdown",
   "metadata": {},
   "source": [
    "13. Conditionals\n",
    "    * Ejercicio: \n"
   ]
  },
  {
   "cell_type": "markdown",
   "metadata": {},
   "source": [
    "14. Looping Over Data Sets\n",
    "    * Ejercicio: \n"
   ]
  },
  {
   "cell_type": "markdown",
   "metadata": {},
   "source": [
    "15. Afternoon Coffee\t\n",
    "    * Break (no se toma en cuenta)"
   ]
  },
  {
   "cell_type": "markdown",
   "metadata": {},
   "source": [
    "16. Writing Functions\n",
    "    * Ejercicio: \n"
   ]
  },
  {
   "cell_type": "code",
   "execution_count": null,
   "metadata": {},
   "outputs": [],
   "source": []
  },
  {
   "cell_type": "code",
   "execution_count": null,
   "metadata": {},
   "outputs": [],
   "source": []
  }
 ],
 "metadata": {
  "kernelspec": {
   "display_name": "Python 3",
   "language": "python",
   "name": "python3"
  },
  "language_info": {
   "codemirror_mode": {
    "name": "ipython",
    "version": 3
   },
   "file_extension": ".py",
   "mimetype": "text/x-python",
   "name": "python",
   "nbconvert_exporter": "python",
   "pygments_lexer": "ipython3",
   "version": "3.8.5"
  }
 },
 "nbformat": 4,
 "nbformat_minor": 4
}
